{
 "cells": [
  {
   "cell_type": "code",
   "execution_count": 2,
   "metadata": {},
   "outputs": [
    {
     "name": "stdout",
     "output_type": "stream",
     "text": [
      "Coefficient [[6.30945055]]\n",
      "Slope [-7.44716216]\n",
      "Testig data 0.7889037259170789\n",
      "Training data 0.8773146084882211\n"
     ]
    },
    {
     "data": {
      "image/png": "[encoded data removed]",
      "text/plain": [
       "<Figure size 432x288 with 1 Axes>"
      ]
     },
     "metadata": {
      "needs_background": "light"
     },
     "output_type": "display_data"
    }
   ],
   "source": [
    "import numpy\n",
    "import random\n",
    "\n",
    "import matplotlib.pyplot as plt\n",
    "\n",
    "#Function named studentReg for using linear regression model and training the model\n",
    "#with given values\n",
    "def studentReg(ages_train, net_worths_train):\n",
    "    from sklearn.linear_model import LinearRegression\n",
    "    reg = LinearRegression()\n",
    "    reg.fit(ages_train, net_worths_train)\n",
    "    return reg\n",
    "\n",
    "#random() function is used to generate random numbers in Python\n",
    "#Seed is used in the generation of a pseudo-random encryption key.\n",
    "#Also seed function is used to generate same random numbers again and again and \n",
    "#simplifies algorithm testing process.\n",
    "random.seed(42)\n",
    "numpy.random.seed(42)\n",
    "\n",
    "ages = []\n",
    "for ii in range(100):\n",
    "    ages.append( random.randint(20,65) )\n",
    "\n",
    "#scale : [float or array_like]Standard Derivation of the distribution. \n",
    "#Generating net_worth by multiplying with 6.25 taking it as slope\n",
    "net_worths = [ii * 6.25 + numpy.random.normal(scale=40.) for ii in ages]\n",
    "\n",
    "### need massage list into a 2d numpy array to get it to work in LinearRegression\n",
    "ages       = numpy.reshape( numpy.array(ages), (len(ages), 1))\n",
    "net_worths = numpy.reshape( numpy.array(net_worths), (len(net_worths), 1))\n",
    "\n",
    "#train_test_split is a function in Sklearn model selection for splitting data \n",
    "#arrays into two subsets: for training data and for testing data. \n",
    "#With this function, you don't need to divide the dataset manually.\n",
    "from sklearn.model_selection import train_test_split\n",
    "ages_train, ages_test, net_worths_train, net_worths_test = train_test_split(ages, net_worths)\n",
    "\n",
    "#Passing training data to my Linear regression model\n",
    "reg = studentReg(ages_train, net_worths_train)\n",
    "\n",
    "#Checking slope and intercept of the trained model\n",
    "print(\"Coefficient\",reg.coef_)\n",
    "print(\"Slope\",reg.intercept_)\n",
    "\n",
    "#Calculating efficiency. It internally calculates y_pred again and gives the \n",
    "#efficiency\n",
    "print(\"Testig data\",reg.score(ages_test, net_worths_test))\n",
    "print(\"Training data\",reg.score(ages_train, net_worths_train))\n",
    "\n",
    "#Plotting graph using matplotlib.\n",
    "plt.plot(ages_test,reg.predict(ages_test))\n",
    "plt.xlabel(\"Ages\")\n",
    "plt.ylabel(\"Net Worth\")\n",
    "plt.show()\n"
   ]
  },
  {
   "cell_type": "code",
   "execution_count": null,
   "metadata": {},
   "outputs": [],
   "source": []
  }
 ],
 "metadata": {
  "kernelspec": {
   "display_name": "Python 3",
   "language": "python",
   "name": "python3"
  },
  "language_info": {
   "codemirror_mode": {
    "name": "ipython",
    "version": 3
   },
   "file_extension": ".py",
   "mimetype": "text/x-python",
   "name": "python",
   "nbconvert_exporter": "python",
   "pygments_lexer": "ipython3",
   "version": "3.7.4"
  }
 },
 "nbformat": 4,
 "nbformat_minor": 2
}
